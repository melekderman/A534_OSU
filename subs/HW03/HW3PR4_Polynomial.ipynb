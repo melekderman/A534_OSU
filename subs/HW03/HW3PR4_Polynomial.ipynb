{
 "cells": [
  {
   "cell_type": "code",
   "execution_count": null,
   "id": "18570d42-dd12-4246-8ac6-9a91ee038a32",
   "metadata": {},
   "outputs": [],
   "source": [
    "import numpy as np\n",
    "import pandas as pd\n",
    "from sklearn.impute import SimpleImputer\n",
    "from sklearn.preprocessing import OneHotEncoder, StandardScaler, PolynomialFeatures, FunctionTransformer, MinMaxScaler\n",
    "from sklearn.linear_model import LinearRegression, Ridge\n",
    "from sklearn.metrics import root_mean_squared_log_error\n",
    "from sklearn.compose import ColumnTransformer\n",
    "from sklearn.model_selection import GridSearchCV\n",
    "from sklearn.pipeline import Pipeline, make_pipeline"
   ]
  },
  {
   "cell_type": "code",
   "execution_count": null,
   "id": "ca97b2cd-2c29-4157-ac4a-9051ad917843",
   "metadata": {},
   "outputs": [],
   "source": [
    "train_data = pd.read_csv(\"C:/Users/drmn_/Desktop/hw3-data/my_train.csv\")\n",
    "dev_data = pd.read_csv(\"C:/Users/drmn_/Desktop/hw3-data/my_dev.csv\")\n",
    "test_data = pd.read_csv(\"C:/Users/drmn_/Desktop/hw3-data/test.csv\")\n",
    "\n",
    "X_train = train_data.drop([\"Id\", \"SalePrice\"], axis=1)\n",
    "y_train = train_data[\"SalePrice\"]\n",
    "X_dev = dev_data.drop([\"Id\", \"SalePrice\"], axis=1)\n",
    "y_dev = dev_data[\"SalePrice\"]\n",
    "\n",
    "test_ids = test_data[\"Id\"]\n",
    "X_test = test_data.drop([\"Id\"], axis=1)"
   ]
  },
  {
   "cell_type": "code",
   "execution_count": null,
   "id": "31afb79b-1994-4567-b777-5483d1032eb3",
   "metadata": {},
   "outputs": [],
   "source": [
    "y_train_log = np.log(y_train)\n",
    "y_dev_log = np.log(y_dev) "
   ]
  },
  {
   "cell_type": "code",
   "execution_count": null,
   "id": "00d051b2-b312-429d-a90e-1d3e9bfa66e9",
   "metadata": {},
   "outputs": [],
   "source": [
    "num_cols = X_train.select_dtypes(include=['int64', 'float64']).columns.tolist()\n",
    "cat_cols = X_train.select_dtypes(include=['object']).columns.tolist()"
   ]
  },
  {
   "cell_type": "code",
   "execution_count": null,
   "id": "229bfe6d-cbdc-4ca7-b429-a397413535e0",
   "metadata": {},
   "outputs": [],
   "source": [
    "len(num_cols) + len(cat_cols)"
   ]
  },
  {
   "cell_type": "code",
   "execution_count": null,
   "id": "04f80aff-b5cd-41e9-9f5d-2ca50dcd599a",
   "metadata": {},
   "outputs": [],
   "source": [
    "num_type_transformer = FunctionTransformer(lambda x: x.astype(float))\n",
    "cat_type_transformer = FunctionTransformer(lambda x: x.astype(str))"
   ]
  },
  {
   "cell_type": "code",
   "execution_count": null,
   "id": "e49053f4-7fbd-4ce1-8a5f-c18a127554b4",
   "metadata": {},
   "outputs": [],
   "source": [
    "categorical_transformer = Pipeline(steps=[\n",
    "    (\"imputer\", SimpleImputer(strategy=\"most_frequent\")),\n",
    "    (\"type_cast\", cat_type_transformer), \n",
    "    (\"onehot\", OneHotEncoder(handle_unknown=\"ignore\"))  \n",
    "])"
   ]
  },
  {
   "cell_type": "code",
   "execution_count": null,
   "id": "1aadf5da-8357-41af-aea5-78833c346a8c",
   "metadata": {},
   "outputs": [],
   "source": [
    "numerical_transformer = Pipeline(steps=[\n",
    "    (\"imputer\", SimpleImputer(strategy=\"mean\")), \n",
    "    (\"type_cast\", num_type_transformer), \n",
    "    (\"scaler\", MinMaxScaler()),      \n",
    "])\n"
   ]
  },
  {
   "cell_type": "code",
   "execution_count": null,
   "id": "05eb1918-04b7-4e12-a54c-a9b6191cf525",
   "metadata": {},
   "outputs": [],
   "source": [
    "poly_transformer = PolynomialFeatures(degree=2, interaction_only=False, include_bias=True)"
   ]
  },
  {
   "cell_type": "code",
   "execution_count": null,
   "id": "2c37a0e5-9456-4fe3-971b-a6c503222f94",
   "metadata": {},
   "outputs": [],
   "source": [
    "preprocessor = ColumnTransformer(\n",
    "    transformers=[\n",
    "        (\"num\", numerical_transformer, num_cols),  \n",
    "        (\"cat\", categorical_transformer, cat_cols), \n",
    "    ])"
   ]
  },
  {
   "cell_type": "code",
   "execution_count": null,
   "id": "92ca23f2-150f-47c4-9af2-9fe15a01d69e",
   "metadata": {},
   "outputs": [],
   "source": [
    "pipeline = Pipeline(steps=[\n",
    "    (\"preprocessor\", preprocessor),         \n",
    "    (\"polynomial\", poly_transformer),      \n",
    "    (\"regressor\", Ridge())                  \n",
    "])"
   ]
  },
  {
   "cell_type": "code",
   "execution_count": null,
   "id": "6aa152c2-5cd5-498e-ba2a-75a4bf9206d0",
   "metadata": {},
   "outputs": [],
   "source": [
    "param_grid = {\n",
    "    \"regressor__alpha\": [0.01, 0.1, 1, 10, 100, 1000],\n",
    "}\n",
    "grid_search = GridSearchCV(pipeline, param_grid, cv=5, scoring=\"neg_root_mean_squared_log_error\")\n",
    "grid_search.fit(X_train, y_train_log)"
   ]
  },
  {
   "cell_type": "code",
   "execution_count": null,
   "id": "15f50125-9d8f-42de-b8ba-d0281a5a24be",
   "metadata": {},
   "outputs": [],
   "source": [
    "print(\"Best alpha:\", grid_search.best_params_)\n",
    "print(\"Best score (negative MRSLE):\", grid_search.best_score_)\n",
    "\n",
    "dev_score = grid_search.score(X_dev, y_dev)\n",
    "print(\"Test set score (negative MRSLE):\", dev_score)"
   ]
  },
  {
   "cell_type": "code",
   "execution_count": null,
   "id": "5cfe1e85-1122-44d0-9092-10501bfd8937",
   "metadata": {},
   "outputs": [],
   "source": [
    "predictions = np.exp(grid_search.best_estimator_.predict(X_test))\n",
    "print(\"Predictions for new set (X_test):\", predictions[:10]) \n"
   ]
  },
  {
   "cell_type": "code",
   "execution_count": null,
   "id": "942c9066-ca5e-4646-b3c3-80230dd11764",
   "metadata": {},
   "outputs": [],
   "source": [
    "ridge_model = grid_search.best_estimator_.named_steps['regressor']\n",
    "preprocessor = grid_search.best_estimator_.named_steps['preprocessor']\n",
    "numerical_features_transformed = num_cols\n",
    "categorical_features_transformed = preprocessor.named_transformers_[\"cat\"].named_steps[\"onehot\"].get_feature_names_out(cat_cols)\n",
    "feature_names = np.concatenate([numerical_features_transformed, categorical_features_transformed])\n",
    "weights = ridge_model.coef_\n",
    "sorted_indices = np.argsort(weights)\n",
    "most_negative_features = feature_names[sorted_indices[:10]]\n",
    "most_positive_features = feature_names[sorted_indices[-10:]]\n",
    "print(\"\\nTop 10 most positive features:\")\n",
    "\n",
    "top_positive_features = sorted(zip(weights, feature_names), reverse=True)[:10]\n",
    "top_negative_features = sorted(zip(weights, feature_names))[:10]\n",
    "\n",
    "for coef, feature in top_positive_features:\n",
    "    print(f\"{feature}\")\n",
    "\n",
    "print(\"\\nTop 10 most negative features:\")\n",
    "for coef, feature in top_negative_features:\n",
    "    print(f\"{feature}\")"
   ]
  },
  {
   "cell_type": "code",
   "execution_count": null,
   "id": "c123790c-df02-41f1-b113-ea1d6b382009",
   "metadata": {},
   "outputs": [],
   "source": [
    "train_predictions_log = grid_search.predict(X_train)\n",
    "train_predictions = np.expm1(train_predictions_log)\n",
    "train_rmsle = root_mean_squared_log_error(y_train, train_predictions)\n",
    "print(\"Train RMSLE:\", train_rmsle)\n",
    "dev_predictions_log = grid_search.predict(X_dev) \n",
    "dev_predictions = np.expm1(dev_predictions_log)\n",
    "dev_rmsle = root_mean_squared_log_error(y_dev, dev_predictions)\n",
    "print(\"Dev RMSLE:\", dev_rmsle)"
   ]
  },
  {
   "cell_type": "code",
   "execution_count": null,
   "id": "e3d19755-f572-4c1d-babc-6f9d4372f629",
   "metadata": {},
   "outputs": [],
   "source": [
    "log_intercept = ridge_model.intercept_\n",
    "print(\"Bias Feature Weight (intercept):\", log_intercept)"
   ]
  },
  {
   "cell_type": "code",
   "execution_count": null,
   "id": "28fa3dbf-f83b-451c-b516-aeccdf372248",
   "metadata": {},
   "outputs": [],
   "source": [
    "log_base_housing_price = ridge_model.intercept_\n",
    "base_housing_price = np.exp(log_base_housing_price)\n",
    "print(\"Log Base Housing Price:\", log_base_housing_price)\n",
    "print(\"Base Housing Price:\", base_housing_price)"
   ]
  },
  {
   "cell_type": "code",
   "execution_count": null,
   "id": "b6381b96-15ec-465d-bffc-83795d8b3580",
   "metadata": {},
   "outputs": [],
   "source": [
    "test_pred_log = grid_search.predict(X_test)\n",
    "test_pred = np.exp(test_pred_log)\n",
    "ids = test_data['Id']\n",
    "df_csv_file = pd.DataFrame({\n",
    "    'Id': ids,\n",
    "    'SalePrice': test_pred\n",
    "})\n",
    "df_csv_file.to_csv('Pred_HW3PR4_Polynomial.csv', index=False)\n",
    "print(\"Pred_HW3PR4_Polynomial.csv file saved successfully\")"
   ]
  },
  {
   "cell_type": "code",
   "execution_count": null,
   "id": "932fcc6a-6b03-439c-8c00-f192de6080de",
   "metadata": {},
   "outputs": [],
   "source": []
  }
 ],
 "metadata": {
  "kernelspec": {
   "display_name": "Python 3 (ipykernel)",
   "language": "python",
   "name": "python3"
  },
  "language_info": {
   "codemirror_mode": {
    "name": "ipython",
    "version": 3
   },
   "file_extension": ".py",
   "mimetype": "text/x-python",
   "name": "python",
   "nbconvert_exporter": "python",
   "pygments_lexer": "ipython3",
   "version": "3.12.3"
  }
 },
 "nbformat": 4,
 "nbformat_minor": 5
}
