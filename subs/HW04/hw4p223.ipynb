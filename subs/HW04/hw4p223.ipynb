{
 "cells": [
  {
   "cell_type": "code",
   "execution_count": 53,
   "id": "b0f054b6-94d8-4a41-a69b-6dd9ae52ded6",
   "metadata": {},
   "outputs": [],
   "source": [
    "from gensim.models import KeyedVectors\n",
    "from sklearn.metrics.pairwise import cosine_similarity\n",
    "import pandas as pd\n",
    "import numpy as np\n",
    "import time\n",
    "from sklearn.neighbors import KNeighborsClassifier\n",
    "from sklearn.metrics import accuracy_score\n",
    "import sys\n",
    "from svector import svector"
   ]
  },
  {
   "cell_type": "code",
   "execution_count": 55,
   "id": "3457548e-cbcd-42a7-b316-75b045e9d3b8",
   "metadata": {},
   "outputs": [],
   "source": [
    "wv = KeyedVectors.load('embs_train.kv')"
   ]
  },
  {
   "cell_type": "code",
   "execution_count": 56,
   "id": "4de21e9f-3786-4972-8629-f6fe24bcc3b6",
   "metadata": {},
   "outputs": [
    {
     "data": {
      "text/plain": [
       "<gensim.models.keyedvectors.KeyedVectors at 0x308fdf3e0>"
      ]
     },
     "execution_count": 56,
     "metadata": {},
     "output_type": "execute_result"
    }
   ],
   "source": [
    "wv"
   ]
  },
  {
   "cell_type": "code",
   "execution_count": 57,
   "id": "57059208-f287-4bf0-8f13-7a4782d374ed",
   "metadata": {},
   "outputs": [],
   "source": [
    "train_data = pd.read_csv('train.csv')\n",
    "dev_data = pd.read_csv('dev.csv')\n",
    "test_data = pd.read_csv('test.csv')\n"
   ]
  },
  {
   "cell_type": "code",
   "execution_count": 58,
   "id": "49649c6b-b078-4f56-85f1-28e950e3ff85",
   "metadata": {},
   "outputs": [],
   "source": [
    "def sentence_embedding(sentence, word_vectors):\n",
    "    words = sentence.split()\n",
    "    valid_vectors = [word_vectors[word] for word in words if word in word_vectors]\n",
    "    if not valid_vectors:\n",
    "        return np.zeros(word_vectors.vector_size)\n",
    "    return np.mean(valid_vectors, axis=0)"
   ]
  },
  {
   "cell_type": "code",
   "execution_count": 59,
   "id": "71ce3390-5261-45ce-b198-5ff00d16ee28",
   "metadata": {},
   "outputs": [],
   "source": [
    "x_train_bin = train_data['sentence'].apply(lambda x: sentence_embedding(x, wv))\n",
    "x_dev_bin = dev_data['sentence'].apply(lambda x: sentence_embedding(x, wv))\n",
    "x_test_bin = test_data['sentence'].apply(lambda x: sentence_embedding(x, wv))"
   ]
  },
  {
   "cell_type": "code",
   "execution_count": 4,
   "id": "f19eba85-6f59-430c-be53-064d12bb83d4",
   "metadata": {},
   "outputs": [
    {
     "name": "stdout",
     "output_type": "stream",
     "text": [
      "epoch 1, update 31.1%, dev error 24.9%\n",
      "epoch 2, update 29.5%, dev error 23.9%\n",
      "epoch 3, update 29.8%, dev error 24.3%\n",
      "epoch 4, update 29.1%, dev error 24.1%\n",
      "epoch 5, update 29.7%, dev error 24.2%\n",
      "epoch 6, update 29.4%, dev error 23.9%\n",
      "epoch 7, update 29.4%, dev error 23.6%\n",
      "epoch 8, update 29.4%, dev error 23.8%\n",
      "epoch 9, update 29.1%, dev error 24.1%\n",
      "epoch 10, update 29.1%, dev error 24.4%\n",
      "best dev err 23.6%, time: 4.7 secs\n",
      "Predictions saved to 'test_predictions_p2q2_2.csv'.\n"
     ]
    }
   ],
   "source": [
    "#!/usr/bin/env python3\n",
    "\n",
    "import sys\n",
    "import time\n",
    "import pandas as pd\n",
    "import numpy as np\n",
    "from gensim.models import KeyedVectors\n",
    "\n",
    "def read_from(textfile):\n",
    "    data = pd.read_csv(textfile)\n",
    "    for i in range(len(data)):\n",
    "        id, words, label = data.iloc[i]\n",
    "        yield (1 if label == \"+\" else -1, words.split())\n",
    "\n",
    "def sentence_embedding(words, word_vectors):\n",
    "    valid_vectors = [word_vectors[word] for word in words if word in word_vectors]\n",
    "    if not valid_vectors:\n",
    "        return np.zeros(word_vectors.vector_size)\n",
    "    return np.mean(valid_vectors, axis=0)\n",
    "\n",
    "def test(devfile, model, wv):\n",
    "    total, errors = 0, 0\n",
    "    for i, (label, words) in enumerate(read_from(devfile), 1):\n",
    "        sent_vec = sentence_embedding(words, wv)\n",
    "        prediction = np.dot(model, sent_vec)\n",
    "        errors += label * prediction <= 0\n",
    "    return errors / i\n",
    "\n",
    "def train(trainfile, devfile, wv, epochs=10):\n",
    "    start_time = time.time()\n",
    "    best_err = 1.0\n",
    "\n",
    "    W = np.zeros(wv.vector_size)\n",
    "    W_a = np.zeros(wv.vector_size)\n",
    "    c = 0\n",
    "\n",
    "    for it in range(1, epochs + 1):\n",
    "        updates = 0\n",
    "        for i, (label, words) in enumerate(read_from(trainfile), 1):\n",
    "            sent_vec = sentence_embedding(words, wv)\n",
    "            prediction = np.dot(W, sent_vec)\n",
    "            if label * prediction <= 0:\n",
    "                updates += 1\n",
    "                W += label * sent_vec\n",
    "                W_a += c * label * sent_vec\n",
    "            c += 1\n",
    "\n",
    "        model = (c * W) - W_a\n",
    "        dev_err = test(devfile, model, wv)\n",
    "        best_err = min(best_err, dev_err)\n",
    "        print(f\"epoch {it}, update {updates / i * 100:.1f}%, dev error {dev_err * 100:.1f}%\")\n",
    "\n",
    "    print(f\"best dev err {best_err * 100:.1f}%, time: {time.time() - start_time:.1f} secs\")\n",
    "    return model\n",
    "\n",
    "def blind_test(testfile, model, wv, output_file):\n",
    "    test_data = pd.read_csv(testfile)\n",
    "\n",
    "    if \"target\" in test_data.columns:\n",
    "        test_data.drop(columns=[\"target\"], inplace=True)\n",
    "\n",
    "    predictions = []\n",
    "    for i in range(len(test_data)):\n",
    "        sentence = test_data.iloc[i][\"sentence\"]  \n",
    "        sent_vec = sentence_embedding(sentence.split(), wv)  \n",
    "        prediction = np.dot(model, sent_vec)\n",
    "        predicted_label = \"+\" if prediction > 0 else \"-\"\n",
    "        predictions.append(predicted_label)\n",
    "\n",
    "    test_data[\"prediction\"] = predictions\n",
    "    test_data.to_csv(output_file, index=False)\n",
    "    print(f\"Predictions saved to '{output_file}'.\")\n",
    "\n",
    "if __name__ == \"__main__\":\n",
    "    wv = KeyedVectors.load(\"embs_train.kv\")\n",
    "    trainfile = \"train.csv\"\n",
    "    devfile = \"dev.csv\"\n",
    "    testfile = \"test.csv\"\n",
    "    test_updated = \"test_predictions_p2q2_2.csv\"\n",
    "    epochs = 10\n",
    "\n",
    "    model = train(trainfile, devfile, wv, epochs)\n",
    "    blind_test(testfile, model, wv, test_updated)"
   ]
  },
  {
   "cell_type": "code",
   "execution_count": null,
   "id": "a96b627d-5ea1-4dfe-acf8-5a912a291354",
   "metadata": {},
   "outputs": [],
   "source": []
  }
 ],
 "metadata": {
  "kernelspec": {
   "display_name": "Python 3 (ipykernel)",
   "language": "python",
   "name": "python3"
  },
  "language_info": {
   "codemirror_mode": {
    "name": "ipython",
    "version": 3
   },
   "file_extension": ".py",
   "mimetype": "text/x-python",
   "name": "python",
   "nbconvert_exporter": "python",
   "pygments_lexer": "ipython3",
   "version": "3.12.7"
  }
 },
 "nbformat": 4,
 "nbformat_minor": 5
}
