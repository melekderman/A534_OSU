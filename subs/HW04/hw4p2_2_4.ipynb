{
 "cells": [
  {
   "cell_type": "code",
   "execution_count": 53,
   "id": "b0f054b6-94d8-4a41-a69b-6dd9ae52ded6",
   "metadata": {},
   "outputs": [],
   "source": [
    "from gensim.models import KeyedVectors\n",
    "from sklearn.metrics.pairwise import cosine_similarity\n",
    "import pandas as pd\n",
    "import numpy as np\n",
    "import time\n",
    "from sklearn.neighbors import KNeighborsClassifier\n",
    "from sklearn.metrics import accuracy_score\n",
    "import sys\n",
    "from svector import svector"
   ]
  },
  {
   "cell_type": "code",
   "execution_count": 55,
   "id": "3457548e-cbcd-42a7-b316-75b045e9d3b8",
   "metadata": {},
   "outputs": [],
   "source": [
    "wv = KeyedVectors.load('embs_train.kv')"
   ]
  },
  {
   "cell_type": "code",
   "execution_count": 56,
   "id": "4de21e9f-3786-4972-8629-f6fe24bcc3b6",
   "metadata": {},
   "outputs": [
    {
     "data": {
      "text/plain": [
       "<gensim.models.keyedvectors.KeyedVectors at 0x308fdf3e0>"
      ]
     },
     "execution_count": 56,
     "metadata": {},
     "output_type": "execute_result"
    }
   ],
   "source": [
    "wv"
   ]
  },
  {
   "cell_type": "code",
   "execution_count": 57,
   "id": "57059208-f287-4bf0-8f13-7a4782d374ed",
   "metadata": {},
   "outputs": [],
   "source": [
    "train_data = pd.read_csv('train.csv')\n",
    "dev_data = pd.read_csv('dev.csv')\n",
    "test_data = pd.read_csv('test.csv')\n"
   ]
  },
  {
   "cell_type": "code",
   "execution_count": 58,
   "id": "49649c6b-b078-4f56-85f1-28e950e3ff85",
   "metadata": {},
   "outputs": [],
   "source": [
    "def sentence_embedding(sentence, word_vectors):\n",
    "    words = sentence.split()\n",
    "    valid_vectors = [word_vectors[word] for word in words if word in word_vectors]\n",
    "    if not valid_vectors:\n",
    "        return np.zeros(word_vectors.vector_size)\n",
    "    return np.mean(valid_vectors, axis=0)"
   ]
  },
  {
   "cell_type": "code",
   "execution_count": 59,
   "id": "71ce3390-5261-45ce-b198-5ff00d16ee28",
   "metadata": {},
   "outputs": [],
   "source": [
    "x_train_bin = train_data['sentence'].apply(lambda x: sentence_embedding(x, wv))\n",
    "x_dev_bin = dev_data['sentence'].apply(lambda x: sentence_embedding(x, wv))\n",
    "x_test_bin = test_data['sentence'].apply(lambda x: sentence_embedding(x, wv))"
   ]
  },
  {
   "cell_type": "code",
   "execution_count": 4,
   "id": "a96b627d-5ea1-4dfe-acf8-5a912a291354",
   "metadata": {},
   "outputs": [
    {
     "name": "stdout",
     "output_type": "stream",
     "text": [
      "epoch 1, updates: 2557, dev error: 25.0%\n",
      "epoch 2, updates: 2435, dev error: 25.1%\n",
      "epoch 3, updates: 2425, dev error: 24.4%\n",
      "epoch 4, updates: 2394, dev error: 24.2%\n",
      "epoch 5, updates: 2429, dev error: 24.2%\n",
      "epoch 6, updates: 2459, dev error: 24.5%\n",
      "epoch 7, updates: 2435, dev error: 24.3%\n",
      "epoch 8, updates: 2411, dev error: 24.5%\n",
      "epoch 9, updates: 2394, dev error: 24.7%\n",
      "epoch 10, updates: 2418, dev error: 24.7%\n",
      "best dev err 24.2%, time: 2.7 secs\n",
      "Updated test file saved as test_predictions_hw4p224.csv\n"
     ]
    }
   ],
   "source": [
    "#!/usr/bin/env python3\n",
    "\n",
    "import sys\n",
    "import time\n",
    "import pandas as pd\n",
    "import numpy as np\n",
    "from collections import Counter\n",
    "from gensim.models import KeyedVectors\n",
    "\n",
    "def read_from(textfile):\n",
    "    data = pd.read_csv(textfile)\n",
    "    for i in range(len(data)):\n",
    "        id, words, label = data.iloc[i]\n",
    "        yield (1 if label == \"+\" else -1, words.split())\n",
    "\n",
    "def compute_word_frequencies(trainfile):\n",
    "    counter = Counter()\n",
    "    for _, words in read_from(trainfile):\n",
    "        counter.update(words)\n",
    "    return counter\n",
    "\n",
    "def sentence_embedding(words, word_vectors, allowed_words):\n",
    "    valid_vectors = [word_vectors[word] for word in words if word in word_vectors and word in allowed_words]\n",
    "    if not valid_vectors:\n",
    "        return np.zeros(word_vectors.vector_size)\n",
    "    return np.mean(valid_vectors, axis=0)\n",
    "\n",
    "def test(devfile, model, wv, allowed_words):\n",
    "    tot, err = 0, 0\n",
    "    for i, (label, words) in enumerate(read_from(devfile), 1):\n",
    "        sent_vec = sentence_embedding(words, wv, allowed_words)\n",
    "        prediction = np.dot(model, sent_vec)\n",
    "        err += label * prediction <= 0\n",
    "    return err / i\n",
    "\n",
    "def train(trainfile, devfile, wv, epochs=10):\n",
    "    word_frequencies = compute_word_frequencies(trainfile)\n",
    "    allowed_words = {word for word, count in word_frequencies.items() if count > 1}\n",
    "\n",
    "    t = time.time()\n",
    "    best_err = 1.0\n",
    "\n",
    "    W = np.zeros(wv.vector_size)\n",
    "    W_a = np.zeros(wv.vector_size)\n",
    "    c = 0\n",
    "\n",
    "    for it in range(1, epochs + 1):\n",
    "        updates = 0\n",
    "        for i, (label, words) in enumerate(read_from(trainfile), 1):\n",
    "            sent_vec = sentence_embedding(words, wv, allowed_words)\n",
    "            prediction = np.dot(W, sent_vec)\n",
    "            if label * prediction <= 0:\n",
    "                updates += 1\n",
    "                W += label * sent_vec\n",
    "                W_a += c * label * sent_vec\n",
    "            c += 1\n",
    "            model = (c * W) - W_a\n",
    "        dev_err = test(devfile, model, wv, allowed_words)\n",
    "        best_err = min(best_err, dev_err)\n",
    "        print(f\"epoch {it}, updates: {updates}, dev error: {dev_err * 100:.1f}%\")\n",
    "    print(f\"best dev err {best_err * 100:.1f}%, time: {time.time() - t:.1f} secs\")\n",
    "    return model\n",
    "\n",
    "def blind_test(testfile, model, wv, allowed_words):\n",
    "    test_data = pd.read_csv(testfile)\n",
    "    predictions = []\n",
    "\n",
    "    for i in range(len(test_data)):\n",
    "        id, sentence = test_data.iloc[i][\"id\"], test_data.iloc[i][\"sentence\"]\n",
    "        sent_vec = sentence_embedding(sentence.split(), wv, allowed_words)\n",
    "        prediction = np.dot(model, sent_vec)\n",
    "        predicted_label = \"+\" if prediction > 0 else \"-\"\n",
    "        predictions.append(predicted_label)\n",
    "\n",
    "    test_data[\"target\"] = predictions\n",
    "    return test_data\n",
    "\n",
    "if __name__ == \"__main__\":\n",
    "    wv = KeyedVectors.load(\"embs_train.kv\")\n",
    "    trainfile = \"train.csv\"\n",
    "    devfile = \"dev.csv\"\n",
    "    testfile = \"test.csv\"\n",
    "    test_updated = \"test_predictions_hw4p224.csv\"\n",
    "    epochs = 10\n",
    "\n",
    "    word_frequencies = compute_word_frequencies(trainfile)\n",
    "    allowed_words = {word for word, count in word_frequencies.items() if count > 1}\n",
    "\n",
    "    model = train(trainfile, devfile, wv, epochs)\n",
    "\n",
    "    updated_test_data = blind_test(testfile, model, wv, allowed_words)\n",
    "    updated_test_data.to_csv(test_updated, index=False)\n",
    "    print(f\"Updated test file saved as {test_updated}\")"
   ]
  },
  {
   "cell_type": "code",
   "execution_count": null,
   "id": "c9640dbd-3333-4e97-b307-a5fbe7a5a74c",
   "metadata": {},
   "outputs": [],
   "source": []
  }
 ],
 "metadata": {
  "kernelspec": {
   "display_name": "Python 3 (ipykernel)",
   "language": "python",
   "name": "python3"
  },
  "language_info": {
   "codemirror_mode": {
    "name": "ipython",
    "version": 3
   },
   "file_extension": ".py",
   "mimetype": "text/x-python",
   "name": "python",
   "nbconvert_exporter": "python",
   "pygments_lexer": "ipython3",
   "version": "3.12.7"
  }
 },
 "nbformat": 4,
 "nbformat_minor": 5
}
