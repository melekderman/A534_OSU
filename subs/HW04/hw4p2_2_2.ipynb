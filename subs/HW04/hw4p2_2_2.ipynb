{
 "cells": [
  {
   "cell_type": "code",
   "execution_count": 14,
   "id": "78e5c933-9f59-4f95-b6ca-2c487a3bba61",
   "metadata": {},
   "outputs": [
    {
     "name": "stdout",
     "output_type": "stream",
     "text": [
      "epoch 1, update 3121, dev 31.4%\n",
      "epoch 2, update 2039, dev 27.7%\n",
      "epoch 3, update 1665, dev 27.2%\n",
      "epoch 4, update 1379, dev 27.6%\n",
      "epoch 5, update 1126, dev 27.2%\n",
      "epoch 6, update 974, dev 26.7%\n",
      "epoch 7, update 837, dev 26.3%\n",
      "epoch 8, update 777, dev 26.4%\n",
      "epoch 9, update 624, dev 26.3%\n",
      "epoch 10, update 554, dev 26.3%\n",
      "best dev err 26.3%, time: 1.4 secs\n"
     ]
    }
   ],
   "source": [
    "#!/usr/bin/env python3\n",
    "\n",
    "from __future__ import division\n",
    "\n",
    "import sys\n",
    "import time\n",
    "import pandas as pd\n",
    "import numpy as np\n",
    "from svector import svector\n",
    "from gensim.models import KeyedVectors\n",
    "\n",
    "\n",
    "def read_from(textfile):\n",
    "    data = pd.read_csv(textfile)\n",
    "    for i in range(len(data)):\n",
    "        id, words, label = data.iloc[i]\n",
    "        yield (1 if label==\"+\" else -1, words.split())\n",
    "\n",
    "\n",
    "def make_vector(words):\n",
    "    v = svector()\n",
    "    v['<bias>'] = 1  \n",
    "    for word in words:\n",
    "        v[word] += 1\n",
    "    return v\n",
    "\n",
    "\n",
    "def test(devfile, model, wv):\n",
    "    tot, err = 0, 0\n",
    "    for i, (label, words) in enumerate(read_from(devfile), 1):\n",
    "        v = make_vector(words)\n",
    "        prediction = model.dot(v)  \n",
    "        err += label * prediction <= 0\n",
    "    return err / i  \n",
    "\n",
    "def train(trainfile, devfile, wv, epochs=5):\n",
    "    t = time.time()\n",
    "    best_err = 1.\n",
    "    W = svector()\n",
    "    W_a = svector()\n",
    "    model = svector()\n",
    "    c = 0\n",
    "\n",
    "    for it in range(1, epochs+1):\n",
    "        updates = 0\n",
    "        for i, (label, words) in enumerate(read_from(trainfile), 1): \n",
    "            sent = make_vector(words)\n",
    "            if label * (W.dot(sent)) <= 0:\n",
    "                updates += 1\n",
    "                W += label * sent\n",
    "                W_a += c * label * sent\n",
    "            c += 1\n",
    "        model = (c * W) - W_a\n",
    "        dev_err = test(devfile, model, wv)\n",
    "        best_err = min(best_err, dev_err)\n",
    "        print(\"epoch %d, update %d, dev %.1f%%\" % (it, updates, dev_err * 100))\n",
    "\n",
    "    print(\"best dev err %.1f%%, time: %.1f secs\" % (best_err * 100, time.time() - t))\n",
    "\n",
    "\n",
    "if __name__ == \"__main__\":\n",
    "    wv = KeyedVectors.load(\"embs_train.kv\")\n",
    "    trainfile = \"train.csv\"\n",
    "    devfile = \"dev.csv\"\n",
    "    train(trainfile, devfile, wv, epochs=10)"
   ]
  },
  {
   "cell_type": "code",
   "execution_count": null,
   "id": "c60f623f-f270-44c4-8155-2e9b8f823470",
   "metadata": {},
   "outputs": [],
   "source": []
  },
  {
   "cell_type": "code",
   "execution_count": null,
   "id": "96e9fc3f-db77-4ebb-9be9-33c197d6bf4c",
   "metadata": {},
   "outputs": [],
   "source": []
  }
 ],
 "metadata": {
  "kernelspec": {
   "display_name": "Python 3 (ipykernel)",
   "language": "python",
   "name": "python3"
  },
  "language_info": {
   "codemirror_mode": {
    "name": "ipython",
    "version": 3
   },
   "file_extension": ".py",
   "mimetype": "text/x-python",
   "name": "python",
   "nbconvert_exporter": "python",
   "pygments_lexer": "ipython3",
   "version": "3.12.7"
  }
 },
 "nbformat": 4,
 "nbformat_minor": 5
}
