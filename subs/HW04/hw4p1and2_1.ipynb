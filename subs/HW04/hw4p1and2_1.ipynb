{
 "cells": [
  {
   "cell_type": "code",
   "execution_count": 281,
   "id": "b0f054b6-94d8-4a41-a69b-6dd9ae52ded6",
   "metadata": {},
   "outputs": [],
   "source": [
    "from gensim.models import KeyedVectors\n",
    "from sklearn.metrics.pairwise import cosine_similarity"
   ]
  },
  {
   "cell_type": "code",
   "execution_count": 282,
   "id": "3457548e-cbcd-42a7-b316-75b045e9d3b8",
   "metadata": {},
   "outputs": [],
   "source": [
    "wv = KeyedVectors.load('embs_train.kv')"
   ]
  },
  {
   "cell_type": "code",
   "execution_count": 283,
   "id": "4de21e9f-3786-4972-8629-f6fe24bcc3b6",
   "metadata": {},
   "outputs": [
    {
     "data": {
      "text/plain": [
       "<gensim.models.keyedvectors.KeyedVectors at 0x165276570>"
      ]
     },
     "execution_count": 283,
     "metadata": {},
     "output_type": "execute_result"
    }
   ],
   "source": [
    "wv"
   ]
  },
  {
   "cell_type": "code",
   "execution_count": 284,
   "id": "f3eb49a2-3fab-43a3-b083-ae90a10eed81",
   "metadata": {
    "scrolled": true
   },
   "outputs": [
    {
     "data": {
      "text/plain": [
       "array([ 0.11132812,  0.10595703, -0.07373047,  0.18847656,  0.07666016,\n",
       "       -0.3828125 , -0.0625    , -0.07470703,  0.05957031,  0.22167969,\n",
       "        0.20507812, -0.09228516,  0.05395508,  0.01379395, -0.16992188,\n",
       "        0.05493164,  0.09619141,  0.06103516, -0.14160156,  0.03173828,\n",
       "       -0.08642578,  0.12011719,  0.06445312,  0.22070312,  0.06835938,\n",
       "        0.04956055, -0.22460938, -0.06298828,  0.09179688, -0.00531006,\n",
       "       -0.11425781,  0.20605469,  0.31054688, -0.0625    , -0.02026367,\n",
       "       -0.13476562, -0.02697754,  0.2734375 ,  0.27929688,  0.21386719,\n",
       "        0.25195312, -0.13964844,  0.19824219, -0.07421875,  0.09228516,\n",
       "        0.125     ,  0.0612793 , -0.02990723,  0.0072937 , -0.05615234,\n",
       "       -0.08447266,  0.1796875 , -0.17578125, -0.11328125, -0.17578125,\n",
       "       -0.1171875 ,  0.09082031, -0.07177734,  0.30273438, -0.2734375 ,\n",
       "       -0.07128906,  0.33007812, -0.13574219, -0.0390625 ,  0.01397705,\n",
       "       -0.02526855,  0.05981445,  0.14550781, -0.11035156,  0.12988281,\n",
       "        0.12695312, -0.04980469,  0.16992188,  0.18261719, -0.23144531,\n",
       "        0.07910156, -0.06738281,  0.34960938, -0.07324219, -0.03442383,\n",
       "        0.01507568, -0.05957031, -0.07373047, -0.03857422, -0.06542969,\n",
       "       -0.2578125 , -0.05151367,  0.08154297,  0.08740234,  0.01318359,\n",
       "        0.06640625,  0.06152344, -0.20800781, -0.10253906, -0.12158203,\n",
       "       -0.06152344,  0.1484375 ,  0.06005859, -0.19140625, -0.05761719,\n",
       "       -0.03149414,  0.12255859,  0.19628906, -0.24902344,  0.03735352,\n",
       "        0.08056641,  0.13183594, -0.01977539,  0.19238281, -0.109375  ,\n",
       "       -0.02172852, -0.09912109, -0.00793457, -0.01251221,  0.23144531,\n",
       "       -0.01080322,  0.00234985,  0.11279297, -0.00485229,  0.01373291,\n",
       "       -0.02441406,  0.01123047, -0.22460938,  0.14160156, -0.00744629,\n",
       "       -0.01385498,  0.20996094,  0.05712891,  0.00366211, -0.07617188,\n",
       "       -0.05859375, -0.05957031,  0.00613403,  0.13183594,  0.04003906,\n",
       "       -0.11376953,  0.046875  ,  0.04199219, -0.0088501 , -0.01672363,\n",
       "        0.03173828, -0.08398438,  0.16308594, -0.17285156, -0.00866699,\n",
       "       -0.04443359,  0.10595703,  0.0145874 ,  0.04492188, -0.07568359,\n",
       "       -0.06689453, -0.0050354 , -0.10986328,  0.11572266, -0.10107422,\n",
       "        0.16210938, -0.0144043 , -0.140625  , -0.09326172, -0.02502441,\n",
       "       -0.13867188,  0.04760742, -0.01452637, -0.10986328,  0.31640625,\n",
       "       -0.11914062,  0.08203125, -0.22949219,  0.09472656, -0.0324707 ,\n",
       "       -0.18847656, -0.10986328,  0.22949219, -0.22363281, -0.07080078,\n",
       "        0.05053711,  0.20507812,  0.03979492, -0.03881836,  0.11962891,\n",
       "        0.01818848, -0.2421875 ,  0.10791016, -0.02307129, -0.06982422,\n",
       "        0.05737305, -0.15527344,  0.01989746, -0.01153564, -0.04833984,\n",
       "        0.16210938,  0.01916504,  0.06079102,  0.01177979, -0.07714844,\n",
       "       -0.02380371, -0.10693359, -0.06542969, -0.20214844, -0.07373047,\n",
       "        0.25390625,  0.12353516,  0.09130859, -0.1484375 ,  0.03662109,\n",
       "        0.02294922,  0.09375   , -0.13183594,  0.03857422,  0.13378906,\n",
       "       -0.13183594,  0.30859375, -0.0255127 ,  0.07763672, -0.09033203,\n",
       "        0.00350952,  0.32617188, -0.08203125, -0.01831055,  0.01879883,\n",
       "       -0.0390625 ,  0.17578125, -0.05273438, -0.22070312, -0.10302734,\n",
       "        0.0390625 , -0.00315857, -0.06176758, -0.01397705, -0.04003906,\n",
       "       -0.17773438,  0.20507812,  0.05004883,  0.10595703, -0.00170898,\n",
       "       -0.04223633, -0.02478027, -0.28320312, -0.08789062, -0.08349609,\n",
       "        0.12792969,  0.04931641, -0.16503906, -0.07275391,  0.00405884,\n",
       "       -0.23828125,  0.16992188, -0.06689453,  0.07958984, -0.14160156,\n",
       "        0.01287842,  0.1640625 ,  0.24511719,  0.09570312,  0.18261719,\n",
       "       -0.00179291, -0.00714111,  0.20507812, -0.40429688, -0.01940918,\n",
       "       -0.07373047, -0.16113281, -0.20800781,  0.00860596, -0.08642578,\n",
       "        0.0189209 , -0.08642578,  0.03930664,  0.03564453,  0.14550781,\n",
       "       -0.01806641,  0.14746094,  0.10888672, -0.06982422, -0.02209473,\n",
       "       -0.01361084, -0.03039551, -0.13574219, -0.0625    ,  0.04003906,\n",
       "       -0.13964844,  0.02026367, -0.12597656,  0.0703125 , -0.03015137,\n",
       "        0.11376953,  0.00337219, -0.06347656, -0.1484375 , -0.11572266,\n",
       "       -0.17675781, -0.08984375, -0.09667969, -0.11669922, -0.09082031,\n",
       "       -0.02490234, -0.00509644, -0.07226562,  0.03735352, -0.15625   ],\n",
       "      dtype=float32)"
      ]
     },
     "execution_count": 284,
     "metadata": {},
     "output_type": "execute_result"
    }
   ],
   "source": [
    "wv['big']"
   ]
  },
  {
   "cell_type": "code",
   "execution_count": 285,
   "id": "5ffccc2f-14c7-45ba-adf8-12d25a57aba6",
   "metadata": {},
   "outputs": [
    {
     "data": {
      "text/plain": [
       "array([ 5.12695312e-02, -2.23388672e-02, -1.72851562e-01,  1.61132812e-01,\n",
       "       -8.44726562e-02,  5.73730469e-02,  5.85937500e-02, -8.25195312e-02,\n",
       "       -1.53808594e-02, -6.34765625e-02,  1.79687500e-01, -4.23828125e-01,\n",
       "       -2.25830078e-02, -1.66015625e-01, -2.51464844e-02,  1.07421875e-01,\n",
       "       -1.99218750e-01,  1.59179688e-01, -1.87500000e-01, -1.20117188e-01,\n",
       "        1.55273438e-01, -9.91210938e-02,  1.42578125e-01, -1.64062500e-01,\n",
       "       -8.93554688e-02,  2.00195312e-01, -1.49414062e-01,  3.20312500e-01,\n",
       "        3.28125000e-01,  2.44140625e-02, -9.71679688e-02, -8.20312500e-02,\n",
       "       -3.63769531e-02, -8.59375000e-02, -9.86328125e-02,  7.78198242e-03,\n",
       "       -1.34277344e-02,  5.27343750e-02,  1.48437500e-01,  3.33984375e-01,\n",
       "        1.66015625e-02, -2.12890625e-01, -1.50756836e-02,  5.24902344e-02,\n",
       "       -1.07421875e-01, -8.88671875e-02,  2.49023438e-01, -7.03125000e-02,\n",
       "       -1.59912109e-02,  7.56835938e-02, -7.03125000e-02,  1.19140625e-01,\n",
       "        2.29492188e-01,  1.41601562e-02,  1.15234375e-01,  7.50732422e-03,\n",
       "        2.75390625e-01, -2.44140625e-01,  2.96875000e-01,  3.49121094e-02,\n",
       "        2.42187500e-01,  1.35742188e-01,  1.42578125e-01,  1.75781250e-02,\n",
       "        2.92968750e-02, -1.21582031e-01,  2.28271484e-02, -4.76074219e-02,\n",
       "       -1.55273438e-01,  3.14331055e-03,  3.45703125e-01,  1.22558594e-01,\n",
       "       -1.95312500e-01,  8.10546875e-02, -6.83593750e-02, -1.47094727e-02,\n",
       "        2.14843750e-01, -1.21093750e-01,  1.57226562e-01, -2.07031250e-01,\n",
       "        1.36718750e-01, -1.29882812e-01,  5.29785156e-02, -2.71484375e-01,\n",
       "       -2.98828125e-01, -1.84570312e-01, -2.29492188e-01,  1.19140625e-01,\n",
       "        1.53198242e-02, -2.61718750e-01, -1.23046875e-01, -1.86767578e-02,\n",
       "       -6.49414062e-02, -8.15429688e-02,  7.86132812e-02, -3.53515625e-01,\n",
       "        5.24902344e-02, -2.45361328e-02, -5.43212891e-03, -2.08984375e-01,\n",
       "       -2.10937500e-01, -1.79687500e-01,  2.42187500e-01,  2.57812500e-01,\n",
       "        1.37695312e-01, -2.10937500e-01, -2.17285156e-02, -1.38671875e-01,\n",
       "        1.84326172e-02, -1.23901367e-02, -1.59179688e-01,  1.61132812e-01,\n",
       "        2.08007812e-01,  1.03027344e-01,  9.81445312e-02, -6.83593750e-02,\n",
       "       -8.72802734e-03, -2.89062500e-01, -2.14843750e-01, -1.14257812e-01,\n",
       "       -2.21679688e-01,  4.12597656e-02, -3.12500000e-01, -5.59082031e-02,\n",
       "       -9.76562500e-02,  5.81054688e-02, -4.05273438e-02, -1.73828125e-01,\n",
       "        1.64062500e-01, -2.53906250e-01, -1.54296875e-01, -2.31933594e-02,\n",
       "       -2.38281250e-01,  2.07519531e-02, -2.73437500e-01,  3.90625000e-03,\n",
       "        1.13769531e-01, -1.73828125e-01,  2.57812500e-01,  2.35351562e-01,\n",
       "        5.22460938e-02,  6.83593750e-02, -1.75781250e-01,  1.60156250e-01,\n",
       "       -5.98907471e-04,  5.98144531e-02, -2.11914062e-01, -5.54199219e-02,\n",
       "       -7.51953125e-02, -3.06640625e-01,  4.27734375e-01,  5.32226562e-02,\n",
       "       -2.08984375e-01, -5.71289062e-02, -2.09960938e-01,  3.29589844e-02,\n",
       "        1.05468750e-01, -1.50390625e-01, -9.37500000e-02,  1.16699219e-01,\n",
       "        6.44531250e-02,  2.80761719e-02,  2.41210938e-01, -1.25976562e-01,\n",
       "       -1.00585938e-01, -1.22680664e-02, -3.26156616e-04,  1.58691406e-02,\n",
       "        1.27929688e-01, -3.32031250e-02,  4.07714844e-02, -1.31835938e-01,\n",
       "        9.81445312e-02,  1.74804688e-01, -2.36328125e-01,  5.17578125e-02,\n",
       "        1.83593750e-01,  2.42919922e-02, -4.31640625e-01,  2.46093750e-01,\n",
       "       -3.03955078e-02, -2.47802734e-02, -1.17187500e-01,  1.61132812e-01,\n",
       "       -5.71289062e-02,  1.16577148e-02,  2.81250000e-01,  4.27734375e-01,\n",
       "        4.56542969e-02,  1.01074219e-01, -3.95507812e-02,  1.77001953e-02,\n",
       "       -8.98437500e-02,  1.35742188e-01,  2.08007812e-01,  1.88476562e-01,\n",
       "       -1.52343750e-01, -2.37304688e-01, -1.90429688e-01,  7.12890625e-02,\n",
       "       -2.46093750e-01, -2.61718750e-01, -2.34375000e-01, -1.45507812e-01,\n",
       "       -1.17187500e-02, -1.50390625e-01, -1.13281250e-01,  1.82617188e-01,\n",
       "        2.63671875e-01, -1.37695312e-01, -4.58984375e-01, -4.68750000e-02,\n",
       "       -1.26953125e-01, -4.22363281e-02, -1.66992188e-01,  1.26953125e-01,\n",
       "        2.59765625e-01, -2.44140625e-01, -2.19726562e-01, -8.69140625e-02,\n",
       "        1.59179688e-01, -3.78417969e-02,  8.97216797e-03, -2.77343750e-01,\n",
       "       -1.04980469e-01, -1.75781250e-01,  2.28515625e-01, -2.70996094e-02,\n",
       "        2.85156250e-01, -2.73437500e-01,  1.61132812e-02,  5.90820312e-02,\n",
       "       -2.39257812e-01,  1.77734375e-01, -1.34765625e-01,  1.38671875e-01,\n",
       "        3.53515625e-01,  1.22070312e-01,  1.43554688e-01,  9.22851562e-02,\n",
       "        2.29492188e-01, -3.00781250e-01, -4.88281250e-02, -1.79687500e-01,\n",
       "        2.96875000e-01,  1.75781250e-01,  4.80957031e-02, -3.38745117e-03,\n",
       "        7.91015625e-02, -2.38281250e-01, -2.31445312e-01,  1.66015625e-01,\n",
       "       -2.13867188e-01, -7.03125000e-02, -7.56835938e-02,  1.96289062e-01,\n",
       "       -1.29882812e-01, -1.05957031e-01, -3.53515625e-01, -1.16699219e-01,\n",
       "       -5.10253906e-02,  3.39355469e-02, -1.43554688e-01, -3.90625000e-03,\n",
       "        1.73828125e-01, -9.96093750e-02, -1.66015625e-01, -8.54492188e-02,\n",
       "       -3.82812500e-01,  5.90820312e-02, -6.22558594e-02,  8.83789062e-02,\n",
       "       -8.88671875e-02,  3.28125000e-01,  6.83593750e-02, -1.91406250e-01,\n",
       "       -8.35418701e-04,  1.04003906e-01,  1.52343750e-01, -1.53350830e-03,\n",
       "        4.16015625e-01, -3.32031250e-02,  1.49414062e-01,  2.42187500e-01,\n",
       "       -1.76757812e-01, -4.93164062e-02, -1.24511719e-01,  1.25976562e-01,\n",
       "        1.74804688e-01,  2.81250000e-01, -1.80664062e-01,  1.03027344e-01,\n",
       "       -2.75390625e-01,  2.61718750e-01,  2.46093750e-01, -4.71191406e-02,\n",
       "        6.25000000e-02,  4.16015625e-01, -3.55468750e-01,  2.22656250e-01],\n",
       "      dtype=float32)"
      ]
     },
     "execution_count": 285,
     "metadata": {},
     "output_type": "execute_result"
    }
   ],
   "source": [
    "wv['dog']"
   ]
  },
  {
   "cell_type": "code",
   "execution_count": 286,
   "id": "cbd66f56-8317-4fec-abff-f1fc7956ad72",
   "metadata": {},
   "outputs": [
    {
     "data": {
      "text/plain": [
       "[('dogs', 0.8680489659309387),\n",
       " ('puppy', 0.8106428384780884),\n",
       " ('cat', 0.7609457969665527),\n",
       " ('canines', 0.7221246361732483),\n",
       " ('pet', 0.7164785861968994),\n",
       " ('collie', 0.6714409589767456),\n",
       " ('puppies', 0.6637066006660461),\n",
       " ('pug', 0.6611860394477844),\n",
       " ('terrier', 0.6599655747413635),\n",
       " ('poodle', 0.6549598574638367)]"
      ]
     },
     "execution_count": 286,
     "metadata": {},
     "output_type": "execute_result"
    }
   ],
   "source": [
    "wv.most_similar('dog', topn=10)"
   ]
  },
  {
   "cell_type": "code",
   "execution_count": 287,
   "id": "78d59cc7-4707-47f9-8a9f-a728c50437a8",
   "metadata": {},
   "outputs": [
    {
     "data": {
      "text/plain": [
       "[('woman', 0.7664012908935547),\n",
       " ('boy', 0.6824870705604553),\n",
       " ('teenager', 0.6586930155754089),\n",
       " ('girl', 0.5921714305877686),\n",
       " ('men', 0.5489763021469116),\n",
       " ('guy', 0.5420035123825073),\n",
       " ('person', 0.5342026352882385),\n",
       " ('suspect', 0.5247485041618347),\n",
       " ('victim', 0.523030161857605),\n",
       " ('thief', 0.5138294100761414)]"
      ]
     },
     "execution_count": 287,
     "metadata": {},
     "output_type": "execute_result"
    }
   ],
   "source": [
    "wv.most_similar('man', topn=10)"
   ]
  },
  {
   "cell_type": "code",
   "execution_count": 288,
   "id": "3687fd75-bb1a-4f1c-86bc-1e6b5aaa0592",
   "metadata": {},
   "outputs": [
    {
     "data": {
      "text/plain": [
       "[('marvelous', 0.8188857436180115),\n",
       " ('fantastic', 0.8047919869422913),\n",
       " ('great', 0.7647868990898132),\n",
       " ('fabulous', 0.7614760398864746),\n",
       " ('terrific', 0.7420831918716431),\n",
       " ('lovely', 0.7320095896720886),\n",
       " ('amazing', 0.7263179421424866),\n",
       " ('beautiful', 0.6854085922241211),\n",
       " ('magnificent', 0.6633867025375366),\n",
       " ('delightful', 0.6574996113777161)]"
      ]
     },
     "execution_count": 288,
     "metadata": {},
     "output_type": "execute_result"
    }
   ],
   "source": [
    "wv.most_similar('wonderful', topn=10)"
   ]
  },
  {
   "cell_type": "code",
   "execution_count": 289,
   "id": "e068a82d-e3cd-45df-a9da-4e3683d3e84d",
   "metadata": {},
   "outputs": [
    {
     "data": {
      "text/plain": [
       "[('horrible', 0.7597667574882507),\n",
       " ('terrible', 0.7478911280632019),\n",
       " ('dreadful', 0.7218177318572998),\n",
       " ('horrid', 0.6720177531242371),\n",
       " ('atrocious', 0.6626645922660828),\n",
       " ('ugly', 0.6236302852630615),\n",
       " ('lousy', 0.6135216951370239),\n",
       " ('unbelievable', 0.6068726181983948),\n",
       " ('appalling', 0.6061566472053528),\n",
       " ('hideous', 0.5811460614204407)]"
      ]
     },
     "execution_count": 289,
     "metadata": {},
     "output_type": "execute_result"
    }
   ],
   "source": [
    "wv.most_similar('awful', topn=10)"
   ]
  },
  {
   "cell_type": "code",
   "execution_count": 290,
   "id": "5e8c8d2b-3153-45a7-a405-93ec6869856a",
   "metadata": {},
   "outputs": [
    {
     "data": {
      "text/plain": [
       "[('this', 0.5937379002571106),\n",
       " ('in', 0.5429296493530273),\n",
       " ('that', 0.5262570381164551),\n",
       " ('another', 0.47483521699905396),\n",
       " ('however', 0.4748331904411316),\n",
       " ('one', 0.4665869176387787),\n",
       " ('entire', 0.4619824290275574),\n",
       " ('its', 0.4605940878391266),\n",
       " ('which', 0.4595310389995575),\n",
       " ('their', 0.45747292041778564)]"
      ]
     },
     "execution_count": 290,
     "metadata": {},
     "output_type": "execute_result"
    }
   ],
   "source": [
    "wv.most_similar('the', topn=10)"
   ]
  },
  {
   "cell_type": "code",
   "execution_count": 291,
   "id": "856725bb-0424-4c6a-96ae-cdcc4e7ad577",
   "metadata": {},
   "outputs": [
    {
     "data": {
      "text/plain": [
       "[('claims', 0.739344596862793),\n",
       " ('assert', 0.5281923413276672),\n",
       " ('argue', 0.5143730640411377),\n",
       " ('contend', 0.5010471940040588),\n",
       " ('notion', 0.4498427212238312),\n",
       " ('deny', 0.4475474953651428),\n",
       " ('arguing', 0.43702423572540283),\n",
       " ('argument', 0.429875910282135),\n",
       " ('prove', 0.41046789288520813),\n",
       " ('purported', 0.40766632556915283)]"
      ]
     },
     "execution_count": 291,
     "metadata": {},
     "output_type": "execute_result"
    }
   ],
   "source": [
    "wv.most_similar('claim', topn=10)"
   ]
  },
  {
   "cell_type": "code",
   "execution_count": 292,
   "id": "b859cece-802b-46c2-b4cf-afef5f4dfcd8",
   "metadata": {},
   "outputs": [
    {
     "data": {
      "text/plain": [
       "[('film', 0.8676770329475403),\n",
       " ('movies', 0.8013108372688293),\n",
       " ('films', 0.7363012433052063),\n",
       " ('sequel', 0.6577792763710022),\n",
       " ('flick', 0.6321909427642822),\n",
       " ('cinema', 0.6317482590675354),\n",
       " ('moviegoers', 0.6071240305900574),\n",
       " ('screenplay', 0.601378858089447),\n",
       " ('cinematic', 0.595923662185669),\n",
       " ('actioner', 0.5917482376098633)]"
      ]
     },
     "execution_count": 292,
     "metadata": {},
     "output_type": "execute_result"
    }
   ],
   "source": [
    "wv.most_similar('movie', topn=10)"
   ]
  },
  {
   "cell_type": "code",
   "execution_count": 298,
   "id": "9560f343-8946-4cd4-b971-086e4e0d5c48",
   "metadata": {},
   "outputs": [
    {
     "data": {
      "text/plain": [
       "[('brother', 0.7966989874839783),\n",
       " ('uncle', 0.6753759980201721),\n",
       " ('nephew', 0.6596081852912903),\n",
       " ('son', 0.6472460031509399),\n",
       " ('father', 0.6398823857307434),\n",
       " ('brothers', 0.6266913414001465),\n",
       " ('dad', 0.5981076955795288),\n",
       " ('siblings', 0.5654128789901733),\n",
       " ('daughter', 0.5610913634300232),\n",
       " ('sons', 0.5580724477767944)]"
      ]
     },
     "execution_count": 298,
     "metadata": {},
     "output_type": "execute_result"
    }
   ],
   "source": [
    "wv.most_similar(positive=['sister', 'man'], negative=['woman'], topn=10)"
   ]
  },
  {
   "cell_type": "code",
   "execution_count": 304,
   "id": "54cee5a3-11b6-4225-b384-c6aaff0bd292",
   "metadata": {},
   "outputs": [
    {
     "data": {
      "text/plain": [
       "[('faster', 0.7064899206161499),\n",
       " ('rapidly', 0.5021132826805115),\n",
       " ('easier', 0.48843100666999817),\n",
       " ('slow', 0.4575234651565552),\n",
       " ('quickly', 0.4370786249637604),\n",
       " ('bigger', 0.4148872196674347),\n",
       " ('cheaper', 0.41006121039390564),\n",
       " ('louder', 0.409576416015625),\n",
       " ('slowly', 0.40936195850372314),\n",
       " ('smarter', 0.40232229232788086)]"
      ]
     },
     "execution_count": 304,
     "metadata": {},
     "output_type": "execute_result"
    }
   ],
   "source": [
    "wv.most_similar(positive=['harder', 'fast'], negative=['hard'], topn=10)"
   ]
  },
  {
   "cell_type": "code",
   "execution_count": 307,
   "id": "b1a211d7-fbed-43c3-b0e8-dc2db53b8b28",
   "metadata": {},
   "outputs": [
    {
     "data": {
      "text/plain": [
       "[('vibrant', 0.44681358337402344),\n",
       " ('cheerful', 0.4316301941871643),\n",
       " ('cheery', 0.4098755717277527),\n",
       " ('whimsical', 0.40536683797836304),\n",
       " ('lively', 0.40526488423347473),\n",
       " ('flashy', 0.39907562732696533),\n",
       " ('colorfully', 0.395419180393219),\n",
       " ('adorned', 0.3938881754875183),\n",
       " ('dazzling', 0.3918518126010895),\n",
       " ('energetic', 0.38788652420043945)]"
      ]
     },
     "execution_count": 307,
     "metadata": {},
     "output_type": "execute_result"
    }
   ],
   "source": [
    "wv.most_similar(positive=['colorful', 'bright'], negative=['dark'], topn=10)"
   ]
  },
  {
   "cell_type": "code",
   "execution_count": 308,
   "id": "46c1da8a-97ae-4e54-8336-8e06cc64e0a8",
   "metadata": {},
   "outputs": [
    {
     "data": {
      "text/plain": [
       "[('horrible', 0.5763375163078308),\n",
       " ('weird', 0.5435378551483154),\n",
       " ('awful', 0.537807822227478),\n",
       " ('ugly', 0.5327450037002563),\n",
       " ('atrocious', 0.5200070142745972),\n",
       " ('scary', 0.5147560834884644),\n",
       " ('horrid', 0.5113875269889832),\n",
       " ('freaky', 0.502623438835144),\n",
       " ('bizarre', 0.4944054186344147),\n",
       " ('shocking', 0.49323874711990356)]"
      ]
     },
     "execution_count": 308,
     "metadata": {},
     "output_type": "execute_result"
    }
   ],
   "source": [
    "wv.most_similar(positive=['amazing', 'bad'], negative=['great'], topn=10)"
   ]
  },
  {
   "cell_type": "code",
   "execution_count": 309,
   "id": "e16ce664-8a40-44ca-a666-de50ca81886e",
   "metadata": {},
   "outputs": [
    {
     "data": {
      "text/plain": [
       "[('irritating', 0.5786240100860596),\n",
       " ('irksome', 0.5241397619247437),\n",
       " ('puzzling', 0.4946495294570923),\n",
       " ('bothersome', 0.4932502210140228),\n",
       " ('bothers', 0.4848800599575043),\n",
       " ('baffling', 0.4760937988758087),\n",
       " ('annoyed', 0.4760410785675049),\n",
       " ('infuriating', 0.4662584066390991),\n",
       " ('troubling', 0.4656568765640259),\n",
       " ('weird', 0.4590189456939697)]"
      ]
     },
     "execution_count": 309,
     "metadata": {},
     "output_type": "execute_result"
    }
   ],
   "source": [
    "wv.most_similar(positive=['surprising', 'annoying'], negative=['predictable'], topn=10)"
   ]
  },
  {
   "cell_type": "code",
   "execution_count": 361,
   "id": "0ef26838-6a76-4823-9445-50e6a870038d",
   "metadata": {},
   "outputs": [],
   "source": [
    "import pandas as pd\n",
    "import numpy as np"
   ]
  },
  {
   "cell_type": "code",
   "execution_count": 387,
   "id": "57059208-f287-4bf0-8f13-7a4782d374ed",
   "metadata": {},
   "outputs": [
    {
     "data": {
      "text/html": [
       "<div>\n",
       "<style scoped>\n",
       "    .dataframe tbody tr th:only-of-type {\n",
       "        vertical-align: middle;\n",
       "    }\n",
       "\n",
       "    .dataframe tbody tr th {\n",
       "        vertical-align: top;\n",
       "    }\n",
       "\n",
       "    .dataframe thead th {\n",
       "        text-align: right;\n",
       "    }\n",
       "</style>\n",
       "<table border=\"1\" class=\"dataframe\">\n",
       "  <thead>\n",
       "    <tr style=\"text-align: right;\">\n",
       "      <th></th>\n",
       "      <th>id</th>\n",
       "      <th>sentence</th>\n",
       "      <th>target</th>\n",
       "    </tr>\n",
       "  </thead>\n",
       "  <tbody>\n",
       "    <tr>\n",
       "      <th>0</th>\n",
       "      <td>0</td>\n",
       "      <td>it 's a tour de force , written and directed s...</td>\n",
       "      <td>+</td>\n",
       "    </tr>\n",
       "    <tr>\n",
       "      <th>1</th>\n",
       "      <td>1</td>\n",
       "      <td>places a slightly believable love triangle in ...</td>\n",
       "      <td>-</td>\n",
       "    </tr>\n",
       "    <tr>\n",
       "      <th>2</th>\n",
       "      <td>2</td>\n",
       "      <td>for those of an indulgent , slightly sunbaked ...</td>\n",
       "      <td>+</td>\n",
       "    </tr>\n",
       "    <tr>\n",
       "      <th>3</th>\n",
       "      <td>3</td>\n",
       "      <td>exactly what you 'd expect from a guy named kaos</td>\n",
       "      <td>-</td>\n",
       "    </tr>\n",
       "    <tr>\n",
       "      <th>4</th>\n",
       "      <td>4</td>\n",
       "      <td>unfortunately , it appears that jackie chan 's...</td>\n",
       "      <td>+</td>\n",
       "    </tr>\n",
       "    <tr>\n",
       "      <th>...</th>\n",
       "      <td>...</td>\n",
       "      <td>...</td>\n",
       "      <td>...</td>\n",
       "    </tr>\n",
       "    <tr>\n",
       "      <th>7995</th>\n",
       "      <td>7995</td>\n",
       "      <td>compelling as it is exotic , fast runner has a...</td>\n",
       "      <td>+</td>\n",
       "    </tr>\n",
       "    <tr>\n",
       "      <th>7996</th>\n",
       "      <td>7996</td>\n",
       "      <td>it takes talent to make a lifeless movie about...</td>\n",
       "      <td>-</td>\n",
       "    </tr>\n",
       "    <tr>\n",
       "      <th>7997</th>\n",
       "      <td>7997</td>\n",
       "      <td>to say analyze that is de niro 's best film si...</td>\n",
       "      <td>-</td>\n",
       "    </tr>\n",
       "    <tr>\n",
       "      <th>7998</th>\n",
       "      <td>7998</td>\n",
       "      <td>how inept is serving sara ? it makes even eliz...</td>\n",
       "      <td>-</td>\n",
       "    </tr>\n",
       "    <tr>\n",
       "      <th>7999</th>\n",
       "      <td>7999</td>\n",
       "      <td>it made me want to wrench my eyes out of my he...</td>\n",
       "      <td>-</td>\n",
       "    </tr>\n",
       "  </tbody>\n",
       "</table>\n",
       "<p>8000 rows × 3 columns</p>\n",
       "</div>"
      ],
      "text/plain": [
       "        id                                           sentence target\n",
       "0        0  it 's a tour de force , written and directed s...      +\n",
       "1        1  places a slightly believable love triangle in ...      -\n",
       "2        2  for those of an indulgent , slightly sunbaked ...      +\n",
       "3        3   exactly what you 'd expect from a guy named kaos      -\n",
       "4        4  unfortunately , it appears that jackie chan 's...      +\n",
       "...    ...                                                ...    ...\n",
       "7995  7995  compelling as it is exotic , fast runner has a...      +\n",
       "7996  7996  it takes talent to make a lifeless movie about...      -\n",
       "7997  7997  to say analyze that is de niro 's best film si...      -\n",
       "7998  7998  how inept is serving sara ? it makes even eliz...      -\n",
       "7999  7999  it made me want to wrench my eyes out of my he...      -\n",
       "\n",
       "[8000 rows x 3 columns]"
      ]
     },
     "execution_count": 387,
     "metadata": {},
     "output_type": "execute_result"
    }
   ],
   "source": [
    "train_data = pd.read_csv('train.csv')\n",
    "dev_data = pd.read_csv('dev.csv')\n",
    "test_data = pd.read_csv('test.csv')\n",
    "\n",
    "train_data"
   ]
  },
  {
   "cell_type": "code",
   "execution_count": 401,
   "id": "49649c6b-b078-4f56-85f1-28e950e3ff85",
   "metadata": {},
   "outputs": [],
   "source": [
    "def sentence_embedding(sentence, word_vectors):\n",
    "    words = sentence.split()\n",
    "    valid_vectors = [word_vectors[word] for word in words if word in word_vectors]\n",
    "    if not valid_vectors:\n",
    "        return np.zeros(word_vectors.vector_size)\n",
    "    return np.mean(valid_vectors, axis=0)"
   ]
  },
  {
   "cell_type": "code",
   "execution_count": 412,
   "id": "988610dc-776a-4601-828d-2683988374c1",
   "metadata": {},
   "outputs": [
    {
     "name": "stdout",
     "output_type": "stream",
     "text": [
      "KeyedVectors<vector_size=300, 14414 keys>\n"
     ]
    }
   ],
   "source": [
    "print(wv)"
   ]
  },
  {
   "cell_type": "code",
   "execution_count": 413,
   "id": "71ce3390-5261-45ce-b198-5ff00d16ee28",
   "metadata": {},
   "outputs": [],
   "source": [
    "train_data_emb = train_data.copy()\n",
    "train_data_emb['embedding'] = train_data['sentence'].apply(lambda x: sentence_embedding(x, wv))\n",
    "dev_data_emb = dev_data.copy()\n",
    "dev_data_emb['embedding'] = dev_data['sentence'].apply(lambda x: sentence_embedding(x, wv))\n",
    "test_data_emb = test_data.copy()\n",
    "test_data_emb['embedding'] = test_data['sentence'].apply(lambda x: sentence_embedding(x, wv))"
   ]
  },
  {
   "cell_type": "code",
   "execution_count": 414,
   "id": "6c38912a-e8b6-4ffb-9702-9684d75667f4",
   "metadata": {},
   "outputs": [],
   "source": [
    "positive_emb = train_data_emb[train_data['target'] == '+']  \n",
    "negative_emb = train_data_emb[train_data['target'] == '-']  "
   ]
  },
  {
   "cell_type": "code",
   "execution_count": 415,
   "id": "60351368-ccff-401d-a598-fb5637df8ed7",
   "metadata": {},
   "outputs": [
    {
     "name": "stdout",
     "output_type": "stream",
     "text": [
      "First positive sentence:\n",
      "Sentence 0: it 's a tour de force , written and directed so quietly that it 's implosion rather than explosion you fear\n",
      "Similarity: 1.0000\n",
      "--------------------------------------------------\n",
      "Most similar sentences:\n",
      "Sentence 400: city reminds us how realistically nuanced a robert de niro performance can be when he is not more lucratively engaged in the shameless self caricature of ` analyze this ' ( 1999 ) and ` analyze that , ' promised ( or threatened ) for later this year\n",
      "Similarity: 0.7564\n",
      "--------------------------------------------------\n",
      "Sentence 3048: if it tried to do anything more , it would fail and perhaps explode , but at this level of manic whimsy , it is just about right\n",
      "Similarity: 0.7499\n",
      "--------------------------------------------------\n",
      "Sentence 2755: this may not have the dramatic gut wrenching impact of other holocaust films , but it 's a compelling story , mainly because of the way it 's told by the people who were there\n",
      "Similarity: 0.7488\n",
      "--------------------------------------------------\n",
      "Sentence 3173: you could say that it 's slow at times , you could say that a few of the characters act in ways that real people would n't , but one thing you could n't say is that alias betty is predictable\n",
      "Similarity: 0.7383\n",
      "--------------------------------------------------\n",
      "Sentence 3088: the bourne identity should n't be half as entertaining as it is , but director doug liman and his colleagues have managed to pack it with enough action to satisfy the boom bam crowd without a huge sacrifice of character and mood\n",
      "Similarity: 0.7358\n",
      "--------------------------------------------------\n",
      "Sentence 2046: it 's hard to imagine anybody ever being in the mood to view a movie as harrowing and painful as the grey zone , but it 's equally hard to imagine anybody being able to tear their eyes away from the screen once it 's started\n",
      "Similarity: 0.7335\n",
      "--------------------------------------------------\n",
      "Sentence 2056: none of his actors stand out , but that 's less of a problem here than it would be in another film characterization matters less than atmosphere\n",
      "Similarity: 0.7328\n",
      "--------------------------------------------------\n",
      "Sentence 952: so beautifully acted and directed , it 's clear that washington most certainly has a new career ahead of him if he so chooses\n",
      "Similarity: 0.7324\n",
      "--------------------------------------------------\n",
      "Sentence 2254: sure , it 's contrived and predictable , but its performances are so well tuned that the film comes off winningly , even though it 's never as solid as you want it to be\n",
      "Similarity: 0.7296\n",
      "--------------------------------------------------\n",
      "Sentence 2819: made me unintentionally famous as the queasy stomached critic who staggered from the theater and blacked out in the lobby but believe it or not , it 's one of the most beautiful , evocative works i 've seen\n",
      "Similarity: 0.7295\n",
      "--------------------------------------------------\n"
     ]
    }
   ],
   "source": [
    "first_embedding_p = positive_emb.iloc[0]['embedding']\n",
    "all_embeddings_p = np.stack(positive_emb['embedding'].values)\n",
    "similarities_p = cosine_similarity([first_embedding_p], all_embeddings_p)[0]\n",
    "indexed_similarities_p = list(enumerate(similarities_p))\n",
    "sorted_similarities_p = sorted(indexed_similarities_p, key=lambda x: x[1], reverse=True)\n",
    "most_similar_p = sorted_similarities_p[1:11]  \n",
    "print(\"First positive sentence:\")\n",
    "print(f\"Sentence 0: {positive_emb.iloc[0]['sentence']}\")\n",
    "print(f\"Similarity: {similarities_p[0]:.4f}\")\n",
    "print(\"-\" * 50)\n",
    "print(\"Most similar sentences:\")\n",
    "for idx, similarity in most_similar_p:\n",
    "    print(f\"Sentence {idx}: {positive_emb.iloc[idx]['sentence']}\")\n",
    "    print(f\"Similarity: {similarity:.4f}\")\n",
    "    print(\"-\" * 50)"
   ]
  },
  {
   "cell_type": "code",
   "execution_count": 416,
   "id": "aab1dfe6-2808-4bd5-b9f7-89136b58b5a1",
   "metadata": {},
   "outputs": [
    {
     "name": "stdout",
     "output_type": "stream",
     "text": [
      "First negative sentence:\n",
      "Sentence 0: places a slightly believable love triangle in a difficult to swallow setting , and then disappointingly moves the story into the realm of an improbable thriller\n",
      "Similarity: 1.0000\n",
      "--------------------------------------------------\n",
      "Most similar sentences:\n",
      "Most similar sentences:\n",
      "Sentence 2091: the plan to make enough into an inspiring tale of survival wrapped in the heart pounding suspense of a stylish psychological thriller ' has flopped as surely as a souffl gone wrong\n",
      "Similarity: 0.8116\n",
      "--------------------------------------------------\n",
      "Most similar sentences:\n",
      "Sentence 3592: before it takes a sudden turn and devolves into a bizarre sort of romantic comedy , steven shainberg 's adaptation of mary gaitskill 's harrowing short story is a brilliantly played , deeply unsettling experience\n",
      "Similarity: 0.8096\n",
      "--------------------------------------------------\n",
      "Most similar sentences:\n",
      "Sentence 2185: it throws quirky characters , odd situations , and off kilter dialogue at us , all as if to say , look at this ! this is an interesting movie ! but the film itself is ultimately quite unengaging\n",
      "Similarity: 0.8030\n",
      "--------------------------------------------------\n",
      "Most similar sentences:\n",
      "Sentence 872: the plot 's clearly mythic structure may owe more to disney 's strong sense of formula than to the original story but while the highly predictable narrative falls short , treasure planet is truly gorgeous to behold\n",
      "Similarity: 0.7961\n",
      "--------------------------------------------------\n",
      "Most similar sentences:\n",
      "Sentence 1077: too much of this well acted but dangerously slow thriller feels like a preamble to a bigger , more complicated story , one that never materializes\n",
      "Similarity: 0.7900\n",
      "--------------------------------------------------\n",
      "Most similar sentences:\n",
      "Sentence 1225: while the transgressive trappings ( especially the frank sex scenes ) ensure that the film is never dull , rodrigues 's beast within metaphor is ultimately rather silly and overwrought , making the ambiguous ending seem goofy rather than provocative\n",
      "Similarity: 0.7851\n",
      "--------------------------------------------------\n",
      "Most similar sentences:\n",
      "Sentence 1789: there 's too much falseness to the second half , and what began as an intriguing look at youth fizzles into a dull , ridiculous attempt at heart tugging\n",
      "Similarity: 0.7790\n",
      "--------------------------------------------------\n",
      "Most similar sentences:\n",
      "Sentence 2288: the movie is loaded with good intentions , but in his zeal to squeeze the action and our emotions into the all too familiar dramatic arc of the holocaust escape story , minac drains his movie of all individuality\n",
      "Similarity: 0.7786\n",
      "--------------------------------------------------\n",
      "Most similar sentences:\n",
      "Sentence 912: jacquot 's rendering of puccini 's tale of devotion and double cross is more than just a filmed opera in his first stab at the form , jacquot takes a slightly anarchic approach that works only sporadically\n",
      "Similarity: 0.7785\n",
      "--------------------------------------------------\n",
      "Most similar sentences:\n",
      "Sentence 2644: despite impeccable acting and a script that takes some rather unexpected ( even , at times , preposterous ) turns , love is just too , too precious in the end\n",
      "Similarity: 0.7760\n",
      "--------------------------------------------------\n"
     ]
    }
   ],
   "source": [
    "first_embedding_n = negative_emb.iloc[0]['embedding']\n",
    "all_embeddings_n = np.stack(negative_emb['embedding'].values)\n",
    "similarities_n = cosine_similarity([first_embedding_n], all_embeddings_n)[0]\n",
    "indexed_similarities_n = list(enumerate(similarities_n))\n",
    "sorted_similarities_n = sorted(indexed_similarities_n, key=lambda x: x[1], reverse=True)\n",
    "most_similar_n = sorted_similarities_n[1:11] \n",
    "print(\"First negative sentence:\")\n",
    "print(f\"Sentence 0: {negative_emb.iloc[0]['sentence']}\")\n",
    "print(f\"Similarity: {similarities_n[0]:.4f}\")\n",
    "print(\"-\" * 50)\n",
    "print(\"Most similar sentences:\")\n",
    "for idx, similarity in most_similar_n:\n",
    "    print(\"Most similar sentences:\")\n",
    "    print(f\"Sentence {idx}: {negative_emb.iloc[idx]['sentence']}\")\n",
    "    print(f\"Similarity: {similarity:.4f}\")\n",
    "    print(\"-\" * 50)"
   ]
  },
  {
   "cell_type": "code",
   "execution_count": 437,
   "id": "779fbc74-9285-4c36-8c41-043befef7772",
   "metadata": {},
   "outputs": [],
   "source": [
    "import time\n",
    "from sklearn.neighbors import KNeighborsClassifier\n",
    "from sklearn.metrics import accuracy_score"
   ]
  },
  {
   "cell_type": "code",
   "execution_count": 447,
   "id": "34b945c9-839a-4f98-9066-43f6a1676401",
   "metadata": {},
   "outputs": [
    {
     "name": "stdout",
     "output_type": "stream",
     "text": [
      "k=1  train_err: 0.0% (+:50.0%) dev_err: 37.0% (+:52.2%) running speed: 0.37s\n",
      "k=3  train_err: 16.15% (+:50.48%) dev_err: 34.8% (+:50.0%) running speed: 0.57s\n",
      "k=5  train_err: 19.84% (+:50.01%) dev_err: 34.5% (+:48.3%) running speed: 0.44s\n",
      "k=7  train_err: 21.24% (+:49.86%) dev_err: 33.8% (+:49.0%) running speed: 0.5s\n",
      "k=9  train_err: 21.99% (+:49.44%) dev_err: 31.9% (+:49.1%) running speed: 0.5s\n",
      "k=11  train_err: 22.5% (+:49.28%) dev_err: 30.7% (+:49.1%) running speed: 0.5s\n",
      "k=13  train_err: 22.81% (+:49.14%) dev_err: 31.3% (+:48.9%) running speed: 0.51s\n",
      "k=15  train_err: 23.61% (+:48.99%) dev_err: 30.2% (+:49.6%) running speed: 0.5s\n",
      "k=17  train_err: 23.46% (+:48.86%) dev_err: 31.3% (+:47.5%) running speed: 0.52s\n",
      "k=19  train_err: 23.55% (+:48.1%) dev_err: 30.9% (+:47.7%) running speed: 0.55s\n",
      "k=21  train_err: 24.04% (+:48.04%) dev_err: 30.9% (+:47.5%) running speed: 0.59s\n",
      "k=23  train_err: 24.09% (+:48.06%) dev_err: 31.2% (+:46.6%) running speed: 0.47s\n",
      "k=25  train_err: 24.02% (+:47.85%) dev_err: 30.2% (+:45.8%) running speed: 0.5s\n",
      "k=27  train_err: 24.44% (+:47.69%) dev_err: 30.4% (+:46.0%) running speed: 0.51s\n",
      "k=29  train_err: 24.31% (+:47.61%) dev_err: 29.3% (+:46.5%) running speed: 0.52s\n",
      "k=31  train_err: 24.29% (+:47.34%) dev_err: 29.6% (+:46.6%) running speed: 0.49s\n",
      "k=33  train_err: 24.28% (+:46.75%) dev_err: 30.5% (+:45.9%) running speed: 0.5s\n",
      "k=35  train_err: 24.55% (+:46.62%) dev_err: 29.7% (+:46.3%) running speed: 0.51s\n",
      "k=37  train_err: 24.62% (+:46.35%) dev_err: 30.0% (+:46.6%) running speed: 0.52s\n",
      "k=39  train_err: 24.84% (+:46.06%) dev_err: 30.0% (+:46.8%) running speed: 0.51s\n",
      "k=41  train_err: 24.79% (+:46.34%) dev_err: 30.4% (+:46.6%) running speed: 0.5s\n",
      "k=43  train_err: 24.88% (+:46.28%) dev_err: 29.7% (+:46.9%) running speed: 0.5s\n",
      "k=45  train_err: 24.64% (+:45.96%) dev_err: 29.3% (+:47.5%) running speed: 0.52s\n",
      "k=47  train_err: 24.78% (+:46.12%) dev_err: 29.3% (+:46.3%) running speed: 0.53s\n",
      "k=49  train_err: 25.16% (+:45.99%) dev_err: 29.1% (+:46.1%) running speed: 0.51s\n",
      "k=51  train_err: 24.92% (+:46.02%) dev_err: 28.9% (+:45.7%) running speed: 0.57s\n",
      "k=53  train_err: 25.01% (+:46.04%) dev_err: 29.1% (+:45.9%) running speed: 0.48s\n",
      "k=55  train_err: 25.04% (+:45.89%) dev_err: 29.2% (+:45.2%) running speed: 0.52s\n",
      "k=57  train_err: 24.75% (+:45.88%) dev_err: 29.3% (+:45.3%) running speed: 0.52s\n",
      "k=59  train_err: 25.1% (+:45.75%) dev_err: 29.7% (+:45.5%) running speed: 0.51s\n",
      "k=61  train_err: 24.75% (+:45.58%) dev_err: 28.5% (+:45.5%) running speed: 0.52s\n",
      "k=63  train_err: 25.04% (+:45.44%) dev_err: 28.3% (+:45.3%) running speed: 0.67s\n",
      "k=65  train_err: 25.11% (+:45.21%) dev_err: 28.3% (+:45.3%) running speed: 0.52s\n",
      "k=67  train_err: 25.31% (+:44.91%) dev_err: 28.0% (+:45.4%) running speed: 0.53s\n",
      "k=69  train_err: 25.11% (+:44.91%) dev_err: 28.6% (+:45.6%) running speed: 0.52s\n",
      "k=71  train_err: 25.16% (+:44.99%) dev_err: 28.9% (+:44.9%) running speed: 0.53s\n",
      "k=73  train_err: 25.16% (+:44.66%) dev_err: 27.8% (+:45.6%) running speed: 0.52s\n",
      "k=75  train_err: 25.3% (+:44.65%) dev_err: 28.9% (+:45.1%) running speed: 0.52s\n",
      "k=77  train_err: 25.48% (+:44.92%) dev_err: 28.7% (+:44.7%) running speed: 0.54s\n",
      "k=79  train_err: 25.35% (+:44.75%) dev_err: 28.7% (+:45.5%) running speed: 0.53s\n",
      "k=81  train_err: 25.12% (+:44.47%) dev_err: 29.0% (+:45.2%) running speed: 0.59s\n",
      "k=83  train_err: 25.08% (+:44.38%) dev_err: 28.6% (+:44.8%) running speed: 0.51s\n",
      "k=85  train_err: 25.24% (+:44.24%) dev_err: 28.9% (+:44.7%) running speed: 0.53s\n",
      "k=87  train_err: 25.21% (+:44.24%) dev_err: 28.1% (+:44.5%) running speed: 0.53s\n",
      "k=89  train_err: 25.31% (+:44.36%) dev_err: 28.4% (+:44.8%) running speed: 0.59s\n",
      "k=91  train_err: 25.26% (+:44.36%) dev_err: 28.8% (+:44.4%) running speed: 0.51s\n",
      "k=93  train_err: 25.28% (+:44.32%) dev_err: 29.2% (+:43.8%) running speed: 0.53s\n",
      "k=95  train_err: 25.33% (+:44.3%) dev_err: 29.1% (+:43.3%) running speed: 0.56s\n",
      "k=97  train_err: 25.35% (+:44.52%) dev_err: 29.4% (+:43.4%) running speed: 0.53s\n",
      "k=99  train_err: 25.44% (+:44.14%) dev_err: 28.7% (+:43.5%) running speed: 0.55s\n",
      "Best k value: 73.0\n",
      "Predictions have been added to the test set and a new CSV file has been created.\n"
     ]
    }
   ],
   "source": [
    "x_train_bin = np.stack(train_data_emb['embedding'].values)\n",
    "y_train = train_data_emb['target'].values\n",
    "\n",
    "x_dev_bin = np.stack(dev_data_emb['embedding'].values)\n",
    "y_dev = dev_data_emb['target'].values\n",
    "\n",
    "x_test_bin = np.stack(test_data_emb['embedding'].values)\n",
    "\n",
    "results = []\n",
    "\n",
    "\n",
    "with open(\"k1to100_part2.txt\", \"w\") as file:\n",
    "    for k in range(1, 100, 2):  \n",
    "        start_time = time.time() \n",
    "        \n",
    "        knn = KNeighborsClassifier(n_neighbors=k)\n",
    "        knn.fit(x_train_bin, y_train)\n",
    "        \n",
    "        y_train_pred = knn.predict(x_train_bin)\n",
    "        train_accuracy = accuracy_score(y_train, y_train_pred)\n",
    "        train_error = 100 - train_accuracy * 100\n",
    "        train_positive_rate = (y_train_pred == '+').mean() * 100\n",
    "\n",
    "        y_dev_pred = knn.predict(x_dev_bin)\n",
    "        dev_accuracy = accuracy_score(y_dev, y_dev_pred)\n",
    "        dev_error = 100 - dev_accuracy * 100\n",
    "        dev_positive_rate = (y_dev_pred == '+').mean() * 100\n",
    "\n",
    "        running_speed = time.time() - start_time\n",
    "        \n",
    "        results.append((\n",
    "            k, train_accuracy, train_error, dev_accuracy, dev_error,\n",
    "            train_positive_rate, dev_positive_rate, running_speed\n",
    "        ))\n",
    "        \n",
    "        file.write(\n",
    "            f\"k={k} train_err {train_error:.1f}% (+:{train_positive_rate:.1f}%) \"\n",
    "            f\"dev_err {dev_error:.1f}% (+:{dev_positive_rate:.1f}%) running_speed {running_speed:.2f}s\\n\"\n",
    "        )\n",
    "        print(\n",
    "            f\"k={k}  train_err: {round(train_error, 2)}% (+:{round(train_positive_rate, 2)}%) \"\n",
    "            f\"dev_err: {round(dev_error, 2)}% (+:{round(dev_positive_rate, 2)}%) running speed: {round(running_speed, 2)}s\"\n",
    "        )\n",
    "\n",
    "accuracy_df = pd.DataFrame(results, columns=[\n",
    "    'K Value', 'Training Accuracy', 'Training Error', 'Dev Accuracy', 'Dev Error',\n",
    "    'Training Positive Rate', 'Dev Positive Rate', 'Running Speed'\n",
    "])\n",
    "\n",
    "best_k = accuracy_df.iloc[accuracy_df['Dev Accuracy'].idxmax()]['K Value']\n",
    "print(f\"Best k value: {best_k}\")\n",
    "\n",
    "test_predictions = knn.predict(x_test_bin)\n",
    "test_data['target'] = test_predictions\n",
    "test_data.to_csv('income.test.predicted_part2.csv', index=False)\n",
    "\n",
    "print(\"Predictions have been added to the test set and a new CSV file has been created.\")"
   ]
  },
  {
   "cell_type": "code",
   "execution_count": null,
   "id": "3fccd162-118a-45f7-a594-6e076977683d",
   "metadata": {},
   "outputs": [],
   "source": []
  },
  {
   "cell_type": "code",
   "execution_count": null,
   "id": "f19eba85-6f59-430c-be53-064d12bb83d4",
   "metadata": {},
   "outputs": [],
   "source": []
  },
  {
   "cell_type": "code",
   "execution_count": null,
   "id": "c1956813-c600-434d-89e1-b68eb46c7e69",
   "metadata": {},
   "outputs": [],
   "source": []
  }
 ],
 "metadata": {
  "kernelspec": {
   "display_name": "Python 3 (ipykernel)",
   "language": "python",
   "name": "python3"
  },
  "language_info": {
   "codemirror_mode": {
    "name": "ipython",
    "version": 3
   },
   "file_extension": ".py",
   "mimetype": "text/x-python",
   "name": "python",
   "nbconvert_exporter": "python",
   "pygments_lexer": "ipython3",
   "version": "3.12.7"
  }
 },
 "nbformat": 4,
 "nbformat_minor": 5
}
